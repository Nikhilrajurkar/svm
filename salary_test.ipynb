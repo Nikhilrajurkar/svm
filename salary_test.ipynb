{
 "cells": [
  {
   "cell_type": "markdown",
   "metadata": {},
   "source": [
    "# Importing Libraries"
   ]
  },
  {
   "cell_type": "code",
   "execution_count": 1,
   "metadata": {
    "ExecuteTime": {
     "end_time": "2022-01-13T14:30:26.816976Z",
     "start_time": "2022-01-13T14:30:26.155684Z"
    },
    "id": "LwASYNNTzB4J"
   },
   "outputs": [],
   "source": [
    "import pandas as pd\n",
    "import numpy as np\n",
    "import random"
   ]
  },
  {
   "cell_type": "code",
   "execution_count": 2,
   "metadata": {
    "ExecuteTime": {
     "end_time": "2022-01-13T14:30:26.902815Z",
     "start_time": "2022-01-13T14:30:26.822015Z"
    },
    "id": "JyMls8pC1F7i"
   },
   "outputs": [],
   "source": [
    "#data loading\n",
    "data=pd.read_csv('SalaryData_Train(1).csv')"
   ]
  },
  {
   "cell_type": "code",
   "execution_count": 3,
   "metadata": {
    "ExecuteTime": {
     "end_time": "2022-01-13T14:30:26.941193Z",
     "start_time": "2022-01-13T14:30:26.906959Z"
    },
    "colab": {
     "base_uri": "https://localhost:8080/",
     "height": 356
    },
    "id": "e8KfnycP1WwD",
    "outputId": "ede4da8a-2703-4ea7-a86a-4d3294da3a4d"
   },
   "outputs": [
    {
     "data": {
      "text/plain": [
       "(5000, 14)"
      ]
     },
     "execution_count": 3,
     "metadata": {},
     "output_type": "execute_result"
    }
   ],
   "source": [
    "#data set is too big becaus of that selecting sampple (5000) for perfoming \n",
    "train_df=data.sample(5000)\n",
    "train_df.shape"
   ]
  },
  {
   "cell_type": "markdown",
   "metadata": {},
   "source": [
    "# Data preprocessing"
   ]
  },
  {
   "cell_type": "code",
   "execution_count": 4,
   "metadata": {
    "ExecuteTime": {
     "end_time": "2022-01-13T14:30:26.969248Z",
     "start_time": "2022-01-13T14:30:26.943189Z"
    },
    "id": "BrIa8S1D8JCa"
   },
   "outputs": [],
   "source": [
    "train_df=train_df.drop_duplicates()"
   ]
  },
  {
   "cell_type": "code",
   "execution_count": 5,
   "metadata": {
    "ExecuteTime": {
     "end_time": "2022-01-13T14:30:27.640104Z",
     "start_time": "2022-01-13T14:30:26.973647Z"
    },
    "id": "dJbPdjD58wMP"
   },
   "outputs": [],
   "source": [
    "from sklearn.preprocessing import LabelEncoder\n",
    "encoder=LabelEncoder()\n",
    "train_df['workclass']=encoder.fit_transform(train_df['workclass'])\n",
    "train_df['education']=encoder.fit_transform(train_df['education'])\n",
    "train_df['maritalstatus']=encoder.fit_transform(train_df['maritalstatus'])\n",
    "train_df['occupation']=encoder.fit_transform(train_df['occupation'])\n",
    "train_df['relationship']=encoder.fit_transform(train_df['relationship'])\n",
    "train_df['race']=encoder.fit_transform(train_df['race'])\n",
    "train_df['sex']=encoder.fit_transform(train_df['sex'])\n",
    "train_df['native']=encoder.fit_transform(train_df['native'])\n",
    "train_df['Salary']=encoder.fit_transform(train_df['Salary'])"
   ]
  },
  {
   "cell_type": "code",
   "execution_count": 6,
   "metadata": {
    "ExecuteTime": {
     "end_time": "2022-01-13T14:30:27.727491Z",
     "start_time": "2022-01-13T14:30:27.643947Z"
    },
    "colab": {
     "base_uri": "https://localhost:8080/",
     "height": 364
    },
    "id": "lkfKvWTA9_mT",
    "outputId": "dfba3f07-917b-4b42-d134-27f61693e6ea"
   },
   "outputs": [
    {
     "data": {
      "text/html": [
       "<div>\n",
       "<style scoped>\n",
       "    .dataframe tbody tr th:only-of-type {\n",
       "        vertical-align: middle;\n",
       "    }\n",
       "\n",
       "    .dataframe tbody tr th {\n",
       "        vertical-align: top;\n",
       "    }\n",
       "\n",
       "    .dataframe thead th {\n",
       "        text-align: right;\n",
       "    }\n",
       "</style>\n",
       "<table border=\"1\" class=\"dataframe\">\n",
       "  <thead>\n",
       "    <tr style=\"text-align: right;\">\n",
       "      <th></th>\n",
       "      <th>age</th>\n",
       "      <th>workclass</th>\n",
       "      <th>education</th>\n",
       "      <th>educationno</th>\n",
       "      <th>maritalstatus</th>\n",
       "      <th>occupation</th>\n",
       "      <th>relationship</th>\n",
       "      <th>race</th>\n",
       "      <th>sex</th>\n",
       "      <th>capitalgain</th>\n",
       "      <th>capitalloss</th>\n",
       "      <th>hoursperweek</th>\n",
       "      <th>native</th>\n",
       "      <th>Salary</th>\n",
       "    </tr>\n",
       "  </thead>\n",
       "  <tbody>\n",
       "    <tr>\n",
       "      <th>count</th>\n",
       "      <td>4848.000000</td>\n",
       "      <td>4848.000000</td>\n",
       "      <td>4848.000000</td>\n",
       "      <td>4848.000000</td>\n",
       "      <td>4848.000000</td>\n",
       "      <td>4848.000000</td>\n",
       "      <td>4848.000000</td>\n",
       "      <td>4848.000000</td>\n",
       "      <td>4848.000000</td>\n",
       "      <td>4848.000000</td>\n",
       "      <td>4848.000000</td>\n",
       "      <td>4848.000000</td>\n",
       "      <td>4848.000000</td>\n",
       "      <td>4848.000000</td>\n",
       "    </tr>\n",
       "    <tr>\n",
       "      <th>mean</th>\n",
       "      <td>38.771452</td>\n",
       "      <td>2.197814</td>\n",
       "      <td>10.283622</td>\n",
       "      <td>10.103548</td>\n",
       "      <td>2.584365</td>\n",
       "      <td>6.013201</td>\n",
       "      <td>1.405528</td>\n",
       "      <td>3.688944</td>\n",
       "      <td>0.676774</td>\n",
       "      <td>1012.808581</td>\n",
       "      <td>87.846122</td>\n",
       "      <td>40.978960</td>\n",
       "      <td>34.340140</td>\n",
       "      <td>0.247112</td>\n",
       "    </tr>\n",
       "    <tr>\n",
       "      <th>std</th>\n",
       "      <td>13.207512</td>\n",
       "      <td>0.973053</td>\n",
       "      <td>3.844594</td>\n",
       "      <td>2.607381</td>\n",
       "      <td>1.502182</td>\n",
       "      <td>4.028400</td>\n",
       "      <td>1.604662</td>\n",
       "      <td>0.814928</td>\n",
       "      <td>0.467756</td>\n",
       "      <td>6856.575639</td>\n",
       "      <td>403.465733</td>\n",
       "      <td>12.343176</td>\n",
       "      <td>6.048769</td>\n",
       "      <td>0.431377</td>\n",
       "    </tr>\n",
       "    <tr>\n",
       "      <th>min</th>\n",
       "      <td>17.000000</td>\n",
       "      <td>0.000000</td>\n",
       "      <td>0.000000</td>\n",
       "      <td>1.000000</td>\n",
       "      <td>0.000000</td>\n",
       "      <td>0.000000</td>\n",
       "      <td>0.000000</td>\n",
       "      <td>0.000000</td>\n",
       "      <td>0.000000</td>\n",
       "      <td>0.000000</td>\n",
       "      <td>0.000000</td>\n",
       "      <td>1.000000</td>\n",
       "      <td>0.000000</td>\n",
       "      <td>0.000000</td>\n",
       "    </tr>\n",
       "    <tr>\n",
       "      <th>25%</th>\n",
       "      <td>28.000000</td>\n",
       "      <td>2.000000</td>\n",
       "      <td>9.000000</td>\n",
       "      <td>9.000000</td>\n",
       "      <td>2.000000</td>\n",
       "      <td>3.000000</td>\n",
       "      <td>0.000000</td>\n",
       "      <td>4.000000</td>\n",
       "      <td>0.000000</td>\n",
       "      <td>0.000000</td>\n",
       "      <td>0.000000</td>\n",
       "      <td>40.000000</td>\n",
       "      <td>36.000000</td>\n",
       "      <td>0.000000</td>\n",
       "    </tr>\n",
       "    <tr>\n",
       "      <th>50%</th>\n",
       "      <td>37.000000</td>\n",
       "      <td>2.000000</td>\n",
       "      <td>11.000000</td>\n",
       "      <td>10.000000</td>\n",
       "      <td>2.000000</td>\n",
       "      <td>6.000000</td>\n",
       "      <td>1.000000</td>\n",
       "      <td>4.000000</td>\n",
       "      <td>1.000000</td>\n",
       "      <td>0.000000</td>\n",
       "      <td>0.000000</td>\n",
       "      <td>40.000000</td>\n",
       "      <td>36.000000</td>\n",
       "      <td>0.000000</td>\n",
       "    </tr>\n",
       "    <tr>\n",
       "      <th>75%</th>\n",
       "      <td>48.000000</td>\n",
       "      <td>2.000000</td>\n",
       "      <td>12.000000</td>\n",
       "      <td>13.000000</td>\n",
       "      <td>4.000000</td>\n",
       "      <td>9.000000</td>\n",
       "      <td>3.000000</td>\n",
       "      <td>4.000000</td>\n",
       "      <td>1.000000</td>\n",
       "      <td>0.000000</td>\n",
       "      <td>0.000000</td>\n",
       "      <td>45.000000</td>\n",
       "      <td>36.000000</td>\n",
       "      <td>0.000000</td>\n",
       "    </tr>\n",
       "    <tr>\n",
       "      <th>max</th>\n",
       "      <td>90.000000</td>\n",
       "      <td>6.000000</td>\n",
       "      <td>15.000000</td>\n",
       "      <td>16.000000</td>\n",
       "      <td>6.000000</td>\n",
       "      <td>13.000000</td>\n",
       "      <td>5.000000</td>\n",
       "      <td>4.000000</td>\n",
       "      <td>1.000000</td>\n",
       "      <td>99999.000000</td>\n",
       "      <td>3770.000000</td>\n",
       "      <td>99.000000</td>\n",
       "      <td>38.000000</td>\n",
       "      <td>1.000000</td>\n",
       "    </tr>\n",
       "  </tbody>\n",
       "</table>\n",
       "</div>"
      ],
      "text/plain": [
       "               age    workclass    education  educationno  maritalstatus  \\\n",
       "count  4848.000000  4848.000000  4848.000000  4848.000000    4848.000000   \n",
       "mean     38.771452     2.197814    10.283622    10.103548       2.584365   \n",
       "std      13.207512     0.973053     3.844594     2.607381       1.502182   \n",
       "min      17.000000     0.000000     0.000000     1.000000       0.000000   \n",
       "25%      28.000000     2.000000     9.000000     9.000000       2.000000   \n",
       "50%      37.000000     2.000000    11.000000    10.000000       2.000000   \n",
       "75%      48.000000     2.000000    12.000000    13.000000       4.000000   \n",
       "max      90.000000     6.000000    15.000000    16.000000       6.000000   \n",
       "\n",
       "        occupation  relationship         race          sex   capitalgain  \\\n",
       "count  4848.000000   4848.000000  4848.000000  4848.000000   4848.000000   \n",
       "mean      6.013201      1.405528     3.688944     0.676774   1012.808581   \n",
       "std       4.028400      1.604662     0.814928     0.467756   6856.575639   \n",
       "min       0.000000      0.000000     0.000000     0.000000      0.000000   \n",
       "25%       3.000000      0.000000     4.000000     0.000000      0.000000   \n",
       "50%       6.000000      1.000000     4.000000     1.000000      0.000000   \n",
       "75%       9.000000      3.000000     4.000000     1.000000      0.000000   \n",
       "max      13.000000      5.000000     4.000000     1.000000  99999.000000   \n",
       "\n",
       "       capitalloss  hoursperweek       native       Salary  \n",
       "count  4848.000000   4848.000000  4848.000000  4848.000000  \n",
       "mean     87.846122     40.978960    34.340140     0.247112  \n",
       "std     403.465733     12.343176     6.048769     0.431377  \n",
       "min       0.000000      1.000000     0.000000     0.000000  \n",
       "25%       0.000000     40.000000    36.000000     0.000000  \n",
       "50%       0.000000     40.000000    36.000000     0.000000  \n",
       "75%       0.000000     45.000000    36.000000     0.000000  \n",
       "max    3770.000000     99.000000    38.000000     1.000000  "
      ]
     },
     "execution_count": 6,
     "metadata": {},
     "output_type": "execute_result"
    }
   ],
   "source": [
    "train_df.describe()"
   ]
  },
  {
   "cell_type": "markdown",
   "metadata": {
    "id": "LweCg3K6AUyN"
   },
   "source": [
    "## **Applying PCA**"
   ]
  },
  {
   "cell_type": "code",
   "execution_count": 7,
   "metadata": {
    "ExecuteTime": {
     "end_time": "2022-01-13T14:30:27.918846Z",
     "start_time": "2022-01-13T14:30:27.730657Z"
    },
    "colab": {
     "base_uri": "https://localhost:8080/"
    },
    "id": "evEcsp2O-Fv2",
    "outputId": "63dceb81-0978-4c09-a283-616afde2a832"
   },
   "outputs": [
    {
     "data": {
      "text/plain": [
       "array([[-8.77331994e-01,  5.90213285e-01,  4.11228084e-01,\n",
       "         2.17222666e+00,  5.13939940e-01, -1.11986405e+00],\n",
       "       [ 3.59645791e-02,  8.44715475e-01, -1.04424419e-01,\n",
       "         1.45585391e+00,  1.36749352e-01, -6.41438404e-01],\n",
       "       [-1.50769292e+00,  1.66055013e+00,  1.98741288e+00,\n",
       "         4.20027523e-01, -6.62174681e-01,  2.12542299e+00],\n",
       "       ...,\n",
       "       [-1.34834304e+00,  4.04377873e-02,  6.11479486e-01,\n",
       "        -1.08882638e+00, -3.91790325e-01,  5.60776160e-01],\n",
       "       [ 7.74944637e-01,  8.35326270e-01,  3.20940134e-03,\n",
       "         4.14451931e-01, -8.55001006e-02,  1.20806061e-01],\n",
       "       [-3.26521339e+00, -1.00101592e+00, -4.42933459e-01,\n",
       "         5.81740694e-01,  4.92391726e-01,  6.77690606e-02]])"
      ]
     },
     "execution_count": 7,
     "metadata": {},
     "output_type": "execute_result"
    }
   ],
   "source": [
    "from sklearn.preprocessing import scale\n",
    "arry=scale(train_df.values)\n",
    "from sklearn.decomposition import PCA\n",
    "pca=PCA(n_components=6)\n",
    "pca_train_values=pca.fit_transform(arry)\n",
    "pca_train_values"
   ]
  },
  {
   "cell_type": "code",
   "execution_count": 8,
   "metadata": {
    "ExecuteTime": {
     "end_time": "2022-01-13T14:30:27.934207Z",
     "start_time": "2022-01-13T14:30:27.921040Z"
    },
    "colab": {
     "base_uri": "https://localhost:8080/"
    },
    "id": "8TRBklTB_7lC",
    "outputId": "1d297709-2fc8-4429-e573-ff7bd8f0fce1"
   },
   "outputs": [
    {
     "data": {
      "text/plain": [
       "array([16.61, 26.99, 35.25, 43.29, 50.74, 57.83])"
      ]
     },
     "execution_count": 8,
     "metadata": {},
     "output_type": "execute_result"
    }
   ],
   "source": [
    "variance=pca.explained_variance_ratio_\n",
    "var1=np.cumsum(np.round(variance,decimals=4)*100)\n",
    "var1"
   ]
  },
  {
   "cell_type": "code",
   "execution_count": 9,
   "metadata": {
    "ExecuteTime": {
     "end_time": "2022-01-13T14:30:27.970557Z",
     "start_time": "2022-01-13T14:30:27.937794Z"
    },
    "colab": {
     "base_uri": "https://localhost:8080/",
     "height": 424
    },
    "id": "6kI74OxXBLV8",
    "outputId": "532bd08b-b01d-4d78-ee29-65da935e4e1b"
   },
   "outputs": [
    {
     "data": {
      "text/html": [
       "<div>\n",
       "<style scoped>\n",
       "    .dataframe tbody tr th:only-of-type {\n",
       "        vertical-align: middle;\n",
       "    }\n",
       "\n",
       "    .dataframe tbody tr th {\n",
       "        vertical-align: top;\n",
       "    }\n",
       "\n",
       "    .dataframe thead th {\n",
       "        text-align: right;\n",
       "    }\n",
       "</style>\n",
       "<table border=\"1\" class=\"dataframe\">\n",
       "  <thead>\n",
       "    <tr style=\"text-align: right;\">\n",
       "      <th></th>\n",
       "      <th>0</th>\n",
       "      <th>1</th>\n",
       "      <th>2</th>\n",
       "      <th>3</th>\n",
       "    </tr>\n",
       "  </thead>\n",
       "  <tbody>\n",
       "    <tr>\n",
       "      <th>0</th>\n",
       "      <td>-0.877332</td>\n",
       "      <td>0.590213</td>\n",
       "      <td>0.411228</td>\n",
       "      <td>2.172227</td>\n",
       "    </tr>\n",
       "    <tr>\n",
       "      <th>1</th>\n",
       "      <td>0.035965</td>\n",
       "      <td>0.844715</td>\n",
       "      <td>-0.104424</td>\n",
       "      <td>1.455854</td>\n",
       "    </tr>\n",
       "    <tr>\n",
       "      <th>2</th>\n",
       "      <td>-1.507693</td>\n",
       "      <td>1.660550</td>\n",
       "      <td>1.987413</td>\n",
       "      <td>0.420028</td>\n",
       "    </tr>\n",
       "    <tr>\n",
       "      <th>3</th>\n",
       "      <td>1.670774</td>\n",
       "      <td>0.323989</td>\n",
       "      <td>-0.193117</td>\n",
       "      <td>-0.887649</td>\n",
       "    </tr>\n",
       "    <tr>\n",
       "      <th>4</th>\n",
       "      <td>0.034435</td>\n",
       "      <td>-3.116676</td>\n",
       "      <td>0.086603</td>\n",
       "      <td>1.290289</td>\n",
       "    </tr>\n",
       "    <tr>\n",
       "      <th>...</th>\n",
       "      <td>...</td>\n",
       "      <td>...</td>\n",
       "      <td>...</td>\n",
       "      <td>...</td>\n",
       "    </tr>\n",
       "    <tr>\n",
       "      <th>4843</th>\n",
       "      <td>0.695664</td>\n",
       "      <td>-0.940988</td>\n",
       "      <td>-0.452965</td>\n",
       "      <td>1.098447</td>\n",
       "    </tr>\n",
       "    <tr>\n",
       "      <th>4844</th>\n",
       "      <td>-2.550343</td>\n",
       "      <td>-2.783608</td>\n",
       "      <td>1.853407</td>\n",
       "      <td>-2.087126</td>\n",
       "    </tr>\n",
       "    <tr>\n",
       "      <th>4845</th>\n",
       "      <td>-1.348343</td>\n",
       "      <td>0.040438</td>\n",
       "      <td>0.611479</td>\n",
       "      <td>-1.088826</td>\n",
       "    </tr>\n",
       "    <tr>\n",
       "      <th>4846</th>\n",
       "      <td>0.774945</td>\n",
       "      <td>0.835326</td>\n",
       "      <td>0.003209</td>\n",
       "      <td>0.414452</td>\n",
       "    </tr>\n",
       "    <tr>\n",
       "      <th>4847</th>\n",
       "      <td>-3.265213</td>\n",
       "      <td>-1.001016</td>\n",
       "      <td>-0.442933</td>\n",
       "      <td>0.581741</td>\n",
       "    </tr>\n",
       "  </tbody>\n",
       "</table>\n",
       "<p>4848 rows × 4 columns</p>\n",
       "</div>"
      ],
      "text/plain": [
       "             0         1         2         3\n",
       "0    -0.877332  0.590213  0.411228  2.172227\n",
       "1     0.035965  0.844715 -0.104424  1.455854\n",
       "2    -1.507693  1.660550  1.987413  0.420028\n",
       "3     1.670774  0.323989 -0.193117 -0.887649\n",
       "4     0.034435 -3.116676  0.086603  1.290289\n",
       "...        ...       ...       ...       ...\n",
       "4843  0.695664 -0.940988 -0.452965  1.098447\n",
       "4844 -2.550343 -2.783608  1.853407 -2.087126\n",
       "4845 -1.348343  0.040438  0.611479 -1.088826\n",
       "4846  0.774945  0.835326  0.003209  0.414452\n",
       "4847 -3.265213 -1.001016 -0.442933  0.581741\n",
       "\n",
       "[4848 rows x 4 columns]"
      ]
     },
     "execution_count": 9,
     "metadata": {},
     "output_type": "execute_result"
    }
   ],
   "source": [
    "finaltrain = pd.DataFrame(pca_train_values[:,0:4])\n",
    "                     \n",
    "finaltrain"
   ]
  },
  {
   "cell_type": "code",
   "execution_count": 10,
   "metadata": {
    "ExecuteTime": {
     "end_time": "2022-01-13T14:30:27.983194Z",
     "start_time": "2022-01-13T14:30:27.975978Z"
    },
    "id": "zUECZLJ_GPgY"
   },
   "outputs": [],
   "source": [
    "x=finaltrain\n",
    "y=train_df[\"Salary\"]"
   ]
  },
  {
   "cell_type": "code",
   "execution_count": 11,
   "metadata": {
    "ExecuteTime": {
     "end_time": "2022-01-13T14:30:27.999218Z",
     "start_time": "2022-01-13T14:30:27.988516Z"
    },
    "id": "SkkUbq1GHHD7"
   },
   "outputs": [],
   "source": [
    "from sklearn.model_selection import train_test_split\n",
    "x_train, x_test, y_train, y_test = train_test_split(x, y, test_size=0.30, random_state=42)"
   ]
  },
  {
   "cell_type": "code",
   "execution_count": 12,
   "metadata": {
    "ExecuteTime": {
     "end_time": "2022-01-13T14:30:28.011559Z",
     "start_time": "2022-01-13T14:30:28.004286Z"
    },
    "id": "TsKhiY5xGwnT"
   },
   "outputs": [],
   "source": [
    "from sklearn.svm import SVC\n",
    "from sklearn.model_selection import GridSearchCV\n",
    "from sklearn.metrics import accuracy_score,confusion_matrix"
   ]
  },
  {
   "cell_type": "markdown",
   "metadata": {},
   "source": [
    "# SVM Model"
   ]
  },
  {
   "cell_type": "code",
   "execution_count": 13,
   "metadata": {
    "ExecuteTime": {
     "end_time": "2022-01-13T14:31:02.595458Z",
     "start_time": "2022-01-13T14:30:28.014857Z"
    },
    "scrolled": true
   },
   "outputs": [
    {
     "data": {
      "text/plain": [
       "GridSearchCV(cv=10, estimator=SVC(),\n",
       "             param_grid=[{'C': [10, 1, 0.5], 'gamma': [1, 0.1, 0.01, 0.001],\n",
       "                          'kernel': ['rbf']}])"
      ]
     },
     "execution_count": 13,
     "metadata": {},
     "output_type": "execute_result"
    }
   ],
   "source": [
    "model=SVC()\n",
    "param_grid = [{'kernel': ['rbf'], \n",
    "               'gamma': [1, 0.1, 0.01, 0.001],\n",
    "               'C': [ 10, 1,0.5]}]\n",
    "GSV=GridSearchCV(model,param_grid,cv=10)\n",
    "GSV.fit(x_train,y_train)"
   ]
  },
  {
   "cell_type": "code",
   "execution_count": 14,
   "metadata": {
    "ExecuteTime": {
     "end_time": "2022-01-13T14:31:02.617729Z",
     "start_time": "2022-01-13T14:31:02.598101Z"
    },
    "id": "Nhr5o-JYKIV8"
   },
   "outputs": [
    {
     "data": {
      "text/plain": [
       "({'C': 1, 'gamma': 1, 'kernel': 'rbf'}, 0.9549028283879922)"
      ]
     },
     "execution_count": 14,
     "metadata": {},
     "output_type": "execute_result"
    }
   ],
   "source": [
    "GSV.best_params_ , GSV.best_score_ "
   ]
  },
  {
   "cell_type": "code",
   "execution_count": 15,
   "metadata": {
    "ExecuteTime": {
     "end_time": "2022-01-13T14:31:03.225141Z",
     "start_time": "2022-01-13T14:31:02.620415Z"
    }
   },
   "outputs": [
    {
     "name": "stdout",
     "output_type": "stream",
     "text": [
      "Accuracy = 96.08247422680412\n"
     ]
    },
    {
     "data": {
      "text/plain": [
       "array([[1090,   28],\n",
       "       [  29,  308]], dtype=int64)"
      ]
     },
     "execution_count": 15,
     "metadata": {},
     "output_type": "execute_result"
    }
   ],
   "source": [
    "model = SVC(C= 1,gamma= 1,kernel='rbf')\n",
    "model.fit(x_train , y_train)\n",
    "y_pred = model.predict(x_test)\n",
    "acc = accuracy_score(y_test, y_pred) * 100\n",
    "print(\"Accuracy =\", acc)\n",
    "confusion_matrix(y_test, y_pred)"
   ]
  },
  {
   "cell_type": "code",
   "execution_count": 17,
   "metadata": {
    "ExecuteTime": {
     "end_time": "2022-01-13T14:31:09.336510Z",
     "start_time": "2022-01-13T14:31:04.666520Z"
    }
   },
   "outputs": [
    {
     "name": "stdout",
     "output_type": "stream",
     "text": [
      "Accuracy = 94.2955326460481\n"
     ]
    },
    {
     "data": {
      "text/plain": [
       "array([[1091,   27],\n",
       "       [  56,  281]], dtype=int64)"
      ]
     },
     "execution_count": 17,
     "metadata": {},
     "output_type": "execute_result"
    }
   ],
   "source": [
    "model2 = SVC(C= 1,gamma= 1,kernel='poly')\n",
    "model2.fit(x_train , y_train)\n",
    "y_pred2 = model2.predict(x_test)\n",
    "acc2 = accuracy_score(y_test, y_pred2) * 100\n",
    "print(\"Accuracy =\", acc2)\n",
    "confusion_matrix(y_test, y_pred2)"
   ]
  },
  {
   "cell_type": "code",
   "execution_count": 16,
   "metadata": {
    "ExecuteTime": {
     "end_time": "2022-01-13T14:31:04.662699Z",
     "start_time": "2022-01-13T14:31:03.229700Z"
    }
   },
   "outputs": [
    {
     "name": "stdout",
     "output_type": "stream",
     "text": [
      "Accuracy of final Model= 96.08247422680412\n"
     ]
    },
    {
     "data": {
      "text/plain": [
       "<AxesSubplot:>"
      ]
     },
     "execution_count": 16,
     "metadata": {},
     "output_type": "execute_result"
    },
    {
     "data": {
      "image/png": "[encoded data removed]",
      "text/plain": [
       "<Figure size 432x288 with 2 Axes>"
      ]
     },
     "metadata": {
      "needs_background": "light"
     },
     "output_type": "display_data"
    }
   ],
   "source": [
    "print(\"Accuracy of final Model=\", acc)\n",
    "from sklearn.metrics import confusion_matrix\n",
    "import seaborn as sns\n",
    "sns.heatmap(confusion_matrix(y_test, y_pred),annot=True,fmt = \"d\",linecolor=\"k\",linewidths=3)"
   ]
  },
  {
   "cell_type": "markdown",
   "metadata": {
    "ExecuteTime": {
     "end_time": "2022-01-13T14:31:09.352024Z",
     "start_time": "2022-01-13T14:31:09.340150Z"
    }
   },
   "source": [
    "# Accuracy of final Model= 96.08 with C= 1,gamma= 1,kernel='rbf'"
   ]
  },
  {
   "cell_type": "code",
   "execution_count": null,
   "metadata": {},
   "outputs": [],
   "source": []
  }
 ],
 "metadata": {
  "colab": {
   "collapsed_sections": [],
   "name": "salary svm.ipynb",
   "provenance": []
  },
  "kernelspec": {
   "display_name": "Python 3 (ipykernel)",
   "language": "python",
   "name": "python3"
  },
  "language_info": {
   "codemirror_mode": {
    "name": "ipython",
    "version": 3
   },
   "file_extension": ".py",
   "mimetype": "text/x-python",
   "name": "python",
   "nbconvert_exporter": "python",
   "pygments_lexer": "ipython3",
   "version": "3.9.7"
  }
 },
 "nbformat": 4,
 "nbformat_minor": 1
}
