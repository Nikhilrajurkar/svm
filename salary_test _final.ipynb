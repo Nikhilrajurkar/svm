{
 "cells": [
  {
   "cell_type": "markdown",
   "id": "d00f0ed8",
   "metadata": {},
   "source": [
    "# Importing Libraries "
   ]
  },
  {
   "cell_type": "code",
   "execution_count": 1,
   "id": "74277a61",
   "metadata": {
    "ExecuteTime": {
     "end_time": "2022-01-13T14:14:32.632040Z",
     "start_time": "2022-01-13T14:14:31.937121Z"
    }
   },
   "outputs": [],
   "source": [
    "import pandas as pd\n",
    "import numpy as np\n",
    "import random"
   ]
  },
  {
   "cell_type": "code",
   "execution_count": 2,
   "id": "8906e24c",
   "metadata": {
    "ExecuteTime": {
     "end_time": "2022-01-13T14:14:32.700845Z",
     "start_time": "2022-01-13T14:14:32.636759Z"
    }
   },
   "outputs": [],
   "source": [
    "#data loading\n",
    "data=pd.read_csv('SalaryData_Test(1).csv')"
   ]
  },
  {
   "cell_type": "code",
   "execution_count": 3,
   "id": "3ca30378",
   "metadata": {
    "ExecuteTime": {
     "end_time": "2022-01-13T14:14:32.733703Z",
     "start_time": "2022-01-13T14:14:32.705868Z"
    }
   },
   "outputs": [
    {
     "data": {
      "text/plain": [
       "(5000, 14)"
      ]
     },
     "execution_count": 3,
     "metadata": {},
     "output_type": "execute_result"
    }
   ],
   "source": [
    "#data set is too big becaus of that selecting sampple (5000) for perfoming \n",
    "test_df=data.sample(5000)\n",
    "test_df.shape"
   ]
  },
  {
   "cell_type": "markdown",
   "id": "b6c41618",
   "metadata": {},
   "source": [
    "# Data preprocessing"
   ]
  },
  {
   "cell_type": "code",
   "execution_count": 4,
   "id": "127e0ea9",
   "metadata": {
    "ExecuteTime": {
     "end_time": "2022-01-13T14:14:32.772182Z",
     "start_time": "2022-01-13T14:14:32.736933Z"
    }
   },
   "outputs": [
    {
     "data": {
      "text/html": [
       "<div>\n",
       "<style scoped>\n",
       "    .dataframe tbody tr th:only-of-type {\n",
       "        vertical-align: middle;\n",
       "    }\n",
       "\n",
       "    .dataframe tbody tr th {\n",
       "        vertical-align: top;\n",
       "    }\n",
       "\n",
       "    .dataframe thead th {\n",
       "        text-align: right;\n",
       "    }\n",
       "</style>\n",
       "<table border=\"1\" class=\"dataframe\">\n",
       "  <thead>\n",
       "    <tr style=\"text-align: right;\">\n",
       "      <th></th>\n",
       "      <th>age</th>\n",
       "      <th>workclass</th>\n",
       "      <th>education</th>\n",
       "      <th>educationno</th>\n",
       "      <th>maritalstatus</th>\n",
       "      <th>occupation</th>\n",
       "      <th>relationship</th>\n",
       "      <th>race</th>\n",
       "      <th>sex</th>\n",
       "      <th>capitalgain</th>\n",
       "      <th>capitalloss</th>\n",
       "      <th>hoursperweek</th>\n",
       "      <th>native</th>\n",
       "      <th>Salary</th>\n",
       "    </tr>\n",
       "  </thead>\n",
       "  <tbody>\n",
       "    <tr>\n",
       "      <th>4860</th>\n",
       "      <td>40</td>\n",
       "      <td>Private</td>\n",
       "      <td>Masters</td>\n",
       "      <td>14</td>\n",
       "      <td>Married-civ-spouse</td>\n",
       "      <td>Exec-managerial</td>\n",
       "      <td>Husband</td>\n",
       "      <td>White</td>\n",
       "      <td>Male</td>\n",
       "      <td>0</td>\n",
       "      <td>0</td>\n",
       "      <td>50</td>\n",
       "      <td>United-States</td>\n",
       "      <td>&gt;50K</td>\n",
       "    </tr>\n",
       "    <tr>\n",
       "      <th>8564</th>\n",
       "      <td>25</td>\n",
       "      <td>Private</td>\n",
       "      <td>Bachelors</td>\n",
       "      <td>13</td>\n",
       "      <td>Never-married</td>\n",
       "      <td>Exec-managerial</td>\n",
       "      <td>Own-child</td>\n",
       "      <td>White</td>\n",
       "      <td>Male</td>\n",
       "      <td>0</td>\n",
       "      <td>0</td>\n",
       "      <td>40</td>\n",
       "      <td>United-States</td>\n",
       "      <td>&lt;=50K</td>\n",
       "    </tr>\n",
       "    <tr>\n",
       "      <th>12469</th>\n",
       "      <td>31</td>\n",
       "      <td>Private</td>\n",
       "      <td>Bachelors</td>\n",
       "      <td>13</td>\n",
       "      <td>Married-civ-spouse</td>\n",
       "      <td>Prof-specialty</td>\n",
       "      <td>Husband</td>\n",
       "      <td>White</td>\n",
       "      <td>Male</td>\n",
       "      <td>7688</td>\n",
       "      <td>0</td>\n",
       "      <td>40</td>\n",
       "      <td>United-States</td>\n",
       "      <td>&gt;50K</td>\n",
       "    </tr>\n",
       "    <tr>\n",
       "      <th>13304</th>\n",
       "      <td>38</td>\n",
       "      <td>Private</td>\n",
       "      <td>HS-grad</td>\n",
       "      <td>9</td>\n",
       "      <td>Married-civ-spouse</td>\n",
       "      <td>Craft-repair</td>\n",
       "      <td>Husband</td>\n",
       "      <td>White</td>\n",
       "      <td>Male</td>\n",
       "      <td>15024</td>\n",
       "      <td>0</td>\n",
       "      <td>45</td>\n",
       "      <td>United-States</td>\n",
       "      <td>&gt;50K</td>\n",
       "    </tr>\n",
       "    <tr>\n",
       "      <th>5515</th>\n",
       "      <td>42</td>\n",
       "      <td>Private</td>\n",
       "      <td>Bachelors</td>\n",
       "      <td>13</td>\n",
       "      <td>Married-civ-spouse</td>\n",
       "      <td>Exec-managerial</td>\n",
       "      <td>Husband</td>\n",
       "      <td>White</td>\n",
       "      <td>Male</td>\n",
       "      <td>0</td>\n",
       "      <td>0</td>\n",
       "      <td>40</td>\n",
       "      <td>United-States</td>\n",
       "      <td>&lt;=50K</td>\n",
       "    </tr>\n",
       "  </tbody>\n",
       "</table>\n",
       "</div>"
      ],
      "text/plain": [
       "       age workclass   education  educationno        maritalstatus  \\\n",
       "4860    40   Private     Masters           14   Married-civ-spouse   \n",
       "8564    25   Private   Bachelors           13        Never-married   \n",
       "12469   31   Private   Bachelors           13   Married-civ-spouse   \n",
       "13304   38   Private     HS-grad            9   Married-civ-spouse   \n",
       "5515    42   Private   Bachelors           13   Married-civ-spouse   \n",
       "\n",
       "             occupation relationship    race    sex  capitalgain  capitalloss  \\\n",
       "4860    Exec-managerial      Husband   White   Male            0            0   \n",
       "8564    Exec-managerial    Own-child   White   Male            0            0   \n",
       "12469    Prof-specialty      Husband   White   Male         7688            0   \n",
       "13304      Craft-repair      Husband   White   Male        15024            0   \n",
       "5515    Exec-managerial      Husband   White   Male            0            0   \n",
       "\n",
       "       hoursperweek          native  Salary  \n",
       "4860             50   United-States    >50K  \n",
       "8564             40   United-States   <=50K  \n",
       "12469            40   United-States    >50K  \n",
       "13304            45   United-States    >50K  \n",
       "5515             40   United-States   <=50K  "
      ]
     },
     "execution_count": 4,
     "metadata": {},
     "output_type": "execute_result"
    }
   ],
   "source": [
    "test_df.head()"
   ]
  },
  {
   "cell_type": "code",
   "execution_count": 5,
   "id": "991e5a6d",
   "metadata": {
    "ExecuteTime": {
     "end_time": "2022-01-13T14:14:32.806006Z",
     "start_time": "2022-01-13T14:14:32.777423Z"
    }
   },
   "outputs": [
    {
     "data": {
      "text/plain": [
       "152"
      ]
     },
     "execution_count": 5,
     "metadata": {},
     "output_type": "execute_result"
    }
   ],
   "source": [
    "test_df.duplicated().sum()"
   ]
  },
  {
   "cell_type": "code",
   "execution_count": 6,
   "id": "71ced514",
   "metadata": {
    "ExecuteTime": {
     "end_time": "2022-01-13T14:14:32.839321Z",
     "start_time": "2022-01-13T14:14:32.810305Z"
    }
   },
   "outputs": [],
   "source": [
    "test_df=test_df.drop_duplicates()"
   ]
  },
  {
   "cell_type": "code",
   "execution_count": 7,
   "id": "9f269cd0",
   "metadata": {
    "ExecuteTime": {
     "end_time": "2022-01-13T14:14:33.610646Z",
     "start_time": "2022-01-13T14:14:32.844563Z"
    }
   },
   "outputs": [],
   "source": [
    "from sklearn.preprocessing import LabelEncoder\n",
    "encoder=LabelEncoder()\n",
    "test_df['workclass']=encoder.fit_transform(test_df['workclass'])\n",
    "test_df['education']=encoder.fit_transform(test_df['education'])\n",
    "test_df['maritalstatus']=encoder.fit_transform(test_df['maritalstatus'])\n",
    "test_df['occupation']=encoder.fit_transform(test_df['occupation'])\n",
    "test_df['relationship']=encoder.fit_transform(test_df['relationship'])\n",
    "test_df['race']=encoder.fit_transform(test_df['race'])\n",
    "test_df['sex']=encoder.fit_transform(test_df['sex'])\n",
    "test_df['native']=encoder.fit_transform(test_df['native'])\n",
    "test_df['Salary']=encoder.fit_transform(test_df['Salary'])"
   ]
  },
  {
   "cell_type": "markdown",
   "id": "f5a74f5e",
   "metadata": {},
   "source": [
    "# Applying PCA"
   ]
  },
  {
   "cell_type": "code",
   "execution_count": 8,
   "id": "2d759cfc",
   "metadata": {
    "ExecuteTime": {
     "end_time": "2022-01-13T14:14:33.812610Z",
     "start_time": "2022-01-13T14:14:33.613770Z"
    }
   },
   "outputs": [
    {
     "data": {
      "text/plain": [
       "array([[ 2.14827271, -0.94289393, -0.00442836,  0.10856093,  0.1063055 ,\n",
       "        -0.92462921],\n",
       "       [-0.88626857, -0.65183644, -0.81828693,  0.59635147,  0.24585247,\n",
       "        -0.95283476],\n",
       "       [ 1.77903594, -0.6347162 , -0.37719014,  0.54536944,  0.6106675 ,\n",
       "        -0.25780454],\n",
       "       ...,\n",
       "       [-0.80522187, -0.2087008 , -0.11131152, -1.22480106, -0.22383104,\n",
       "         0.19921592],\n",
       "       [-2.78238371,  1.60481533,  0.14830754, -1.07303202,  0.12668103,\n",
       "         0.33832763],\n",
       "       [ 0.19396793, -0.45581456,  1.11577382, -1.92482994, -0.23538105,\n",
       "        -0.73581134]])"
      ]
     },
     "execution_count": 8,
     "metadata": {},
     "output_type": "execute_result"
    }
   ],
   "source": [
    "#normalizing data \n",
    "from sklearn.preprocessing import scale\n",
    "arry=scale(test_df.values)\n",
    "#PCA\n",
    "from sklearn.decomposition import PCA\n",
    "pca=PCA(n_components=6)\n",
    "pca_test_values=pca.fit_transform(arry)\n",
    "pca_test_values"
   ]
  },
  {
   "cell_type": "code",
   "execution_count": 9,
   "id": "25f9a9a0",
   "metadata": {
    "ExecuteTime": {
     "end_time": "2022-01-13T14:14:33.832885Z",
     "start_time": "2022-01-13T14:14:33.818958Z"
    }
   },
   "outputs": [
    {
     "data": {
      "text/plain": [
       "array([16.52, 27.17, 35.3 , 43.13, 50.55, 57.77])"
      ]
     },
     "execution_count": 9,
     "metadata": {},
     "output_type": "execute_result"
    }
   ],
   "source": [
    "variance=pca.explained_variance_ratio_\n",
    "var1=np.cumsum(np.round(variance,decimals=4)*100)\n",
    "var1\n"
   ]
  },
  {
   "cell_type": "code",
   "execution_count": 10,
   "id": "5693ad36",
   "metadata": {
    "ExecuteTime": {
     "end_time": "2022-01-13T14:14:33.861368Z",
     "start_time": "2022-01-13T14:14:33.835012Z"
    }
   },
   "outputs": [
    {
     "data": {
      "text/html": [
       "<div>\n",
       "<style scoped>\n",
       "    .dataframe tbody tr th:only-of-type {\n",
       "        vertical-align: middle;\n",
       "    }\n",
       "\n",
       "    .dataframe tbody tr th {\n",
       "        vertical-align: top;\n",
       "    }\n",
       "\n",
       "    .dataframe thead th {\n",
       "        text-align: right;\n",
       "    }\n",
       "</style>\n",
       "<table border=\"1\" class=\"dataframe\">\n",
       "  <thead>\n",
       "    <tr style=\"text-align: right;\">\n",
       "      <th></th>\n",
       "      <th>0</th>\n",
       "      <th>1</th>\n",
       "      <th>2</th>\n",
       "      <th>3</th>\n",
       "    </tr>\n",
       "  </thead>\n",
       "  <tbody>\n",
       "    <tr>\n",
       "      <th>0</th>\n",
       "      <td>2.148273</td>\n",
       "      <td>-0.942894</td>\n",
       "      <td>-0.004428</td>\n",
       "      <td>0.108561</td>\n",
       "    </tr>\n",
       "    <tr>\n",
       "      <th>1</th>\n",
       "      <td>-0.886269</td>\n",
       "      <td>-0.651836</td>\n",
       "      <td>-0.818287</td>\n",
       "      <td>0.596351</td>\n",
       "    </tr>\n",
       "    <tr>\n",
       "      <th>2</th>\n",
       "      <td>1.779036</td>\n",
       "      <td>-0.634716</td>\n",
       "      <td>-0.377190</td>\n",
       "      <td>0.545369</td>\n",
       "    </tr>\n",
       "    <tr>\n",
       "      <th>3</th>\n",
       "      <td>1.834768</td>\n",
       "      <td>-0.044793</td>\n",
       "      <td>0.604880</td>\n",
       "      <td>-0.289168</td>\n",
       "    </tr>\n",
       "    <tr>\n",
       "      <th>4</th>\n",
       "      <td>0.750758</td>\n",
       "      <td>0.195291</td>\n",
       "      <td>-0.341371</td>\n",
       "      <td>-0.168882</td>\n",
       "    </tr>\n",
       "    <tr>\n",
       "      <th>...</th>\n",
       "      <td>...</td>\n",
       "      <td>...</td>\n",
       "      <td>...</td>\n",
       "      <td>...</td>\n",
       "    </tr>\n",
       "    <tr>\n",
       "      <th>4843</th>\n",
       "      <td>0.745116</td>\n",
       "      <td>0.682293</td>\n",
       "      <td>-0.242944</td>\n",
       "      <td>0.538473</td>\n",
       "    </tr>\n",
       "    <tr>\n",
       "      <th>4844</th>\n",
       "      <td>-1.282536</td>\n",
       "      <td>-0.179649</td>\n",
       "      <td>-0.480802</td>\n",
       "      <td>0.208243</td>\n",
       "    </tr>\n",
       "    <tr>\n",
       "      <th>4845</th>\n",
       "      <td>-0.805222</td>\n",
       "      <td>-0.208701</td>\n",
       "      <td>-0.111312</td>\n",
       "      <td>-1.224801</td>\n",
       "    </tr>\n",
       "    <tr>\n",
       "      <th>4846</th>\n",
       "      <td>-2.782384</td>\n",
       "      <td>1.604815</td>\n",
       "      <td>0.148308</td>\n",
       "      <td>-1.073032</td>\n",
       "    </tr>\n",
       "    <tr>\n",
       "      <th>4847</th>\n",
       "      <td>0.193968</td>\n",
       "      <td>-0.455815</td>\n",
       "      <td>1.115774</td>\n",
       "      <td>-1.924830</td>\n",
       "    </tr>\n",
       "  </tbody>\n",
       "</table>\n",
       "<p>4848 rows × 4 columns</p>\n",
       "</div>"
      ],
      "text/plain": [
       "             0         1         2         3\n",
       "0     2.148273 -0.942894 -0.004428  0.108561\n",
       "1    -0.886269 -0.651836 -0.818287  0.596351\n",
       "2     1.779036 -0.634716 -0.377190  0.545369\n",
       "3     1.834768 -0.044793  0.604880 -0.289168\n",
       "4     0.750758  0.195291 -0.341371 -0.168882\n",
       "...        ...       ...       ...       ...\n",
       "4843  0.745116  0.682293 -0.242944  0.538473\n",
       "4844 -1.282536 -0.179649 -0.480802  0.208243\n",
       "4845 -0.805222 -0.208701 -0.111312 -1.224801\n",
       "4846 -2.782384  1.604815  0.148308 -1.073032\n",
       "4847  0.193968 -0.455815  1.115774 -1.924830\n",
       "\n",
       "[4848 rows x 4 columns]"
      ]
     },
     "execution_count": 10,
     "metadata": {},
     "output_type": "execute_result"
    }
   ],
   "source": [
    "finaltest = pd.DataFrame(pca_test_values[:,0:4])\n",
    "                     \n",
    "finaltest"
   ]
  },
  {
   "cell_type": "code",
   "execution_count": 11,
   "id": "860f4dc4",
   "metadata": {
    "ExecuteTime": {
     "end_time": "2022-01-13T14:14:33.878505Z",
     "start_time": "2022-01-13T14:14:33.864195Z"
    }
   },
   "outputs": [],
   "source": [
    "#data spliting in x & y"
   ]
  },
  {
   "cell_type": "code",
   "execution_count": 12,
   "id": "73eba8b1",
   "metadata": {
    "ExecuteTime": {
     "end_time": "2022-01-13T14:14:33.887101Z",
     "start_time": "2022-01-13T14:14:33.881985Z"
    }
   },
   "outputs": [],
   "source": [
    "x=finaltest\n",
    "y=test_df[\"Salary\"]"
   ]
  },
  {
   "cell_type": "code",
   "execution_count": 13,
   "id": "a1cdc7ac",
   "metadata": {
    "ExecuteTime": {
     "end_time": "2022-01-13T14:14:33.902396Z",
     "start_time": "2022-01-13T14:14:33.891821Z"
    }
   },
   "outputs": [],
   "source": [
    "from sklearn.model_selection import train_test_split\n",
    "x_train, x_test, y_train, y_test = train_test_split(x, y, test_size=0.30, random_state=42)"
   ]
  },
  {
   "cell_type": "markdown",
   "id": "55a23bf0",
   "metadata": {},
   "source": [
    "# SVM Model"
   ]
  },
  {
   "cell_type": "code",
   "execution_count": 14,
   "id": "b8c1d52f",
   "metadata": {
    "ExecuteTime": {
     "end_time": "2022-01-13T14:14:33.911157Z",
     "start_time": "2022-01-13T14:14:33.904379Z"
    }
   },
   "outputs": [],
   "source": [
    "from sklearn.svm import SVC\n",
    "from sklearn.model_selection import GridSearchCV\n",
    "from sklearn.metrics import accuracy_score,confusion_matrix"
   ]
  },
  {
   "cell_type": "code",
   "execution_count": 23,
   "id": "c6080198",
   "metadata": {
    "ExecuteTime": {
     "end_time": "2022-01-13T14:45:01.388768Z",
     "start_time": "2022-01-13T14:44:40.422625Z"
    }
   },
   "outputs": [
    {
     "data": {
      "text/plain": [
       "GridSearchCV(cv=10, estimator=SVC(),\n",
       "             param_grid=[{'C': [10, 1, 0.5], 'gamma': [2, 0.1, 0.01, 0.001],\n",
       "                          'kernel': ['rbf']}])"
      ]
     },
     "execution_count": 23,
     "metadata": {},
     "output_type": "execute_result"
    }
   ],
   "source": [
    "model=SVC()\n",
    "param_grid = [{'kernel': ['rbf'], \n",
    "               'gamma': [2, 0.1, 0.01, 0.001],\n",
    "               'C': [ 10, 1,0.5]}]\n",
    "GSV=GridSearchCV(model,param_grid,cv=10)\n",
    "GSV.fit(x_train,y_train)"
   ]
  },
  {
   "cell_type": "code",
   "execution_count": 24,
   "id": "34480e94",
   "metadata": {
    "ExecuteTime": {
     "end_time": "2022-01-13T14:45:01.404697Z",
     "start_time": "2022-01-13T14:45:01.390734Z"
    }
   },
   "outputs": [
    {
     "data": {
      "text/plain": [
       "({'C': 1, 'gamma': 0.1, 'kernel': 'rbf'}, 0.9496043727225404)"
      ]
     },
     "execution_count": 24,
     "metadata": {},
     "output_type": "execute_result"
    }
   ],
   "source": [
    "GSV.best_params_ , GSV.best_score_ "
   ]
  },
  {
   "cell_type": "code",
   "execution_count": 28,
   "id": "93a303ff",
   "metadata": {
    "ExecuteTime": {
     "end_time": "2022-01-13T14:45:23.171259Z",
     "start_time": "2022-01-13T14:45:22.962788Z"
    }
   },
   "outputs": [
    {
     "name": "stdout",
     "output_type": "stream",
     "text": [
      "Accuracy = 96.1512027491409\n"
     ]
    },
    {
     "data": {
      "text/plain": [
       "array([[1085,   31],\n",
       "       [  25,  314]], dtype=int64)"
      ]
     },
     "execution_count": 28,
     "metadata": {},
     "output_type": "execute_result"
    }
   ],
   "source": [
    "model = SVC(C=10,gamma=0.1,kernel='rbf')\n",
    "model.fit(x_train , y_train)\n",
    "y_pred = model.predict(x_test)\n",
    "acc = accuracy_score(y_test, y_pred) * 100\n",
    "print(\"Accuracy =\", acc)\n",
    "confusion_matrix(y_test, y_pred)"
   ]
  },
  {
   "cell_type": "code",
   "execution_count": 32,
   "id": "235454aa",
   "metadata": {
    "ExecuteTime": {
     "end_time": "2022-01-13T14:46:03.526431Z",
     "start_time": "2022-01-13T14:46:03.280659Z"
    }
   },
   "outputs": [
    {
     "name": "stdout",
     "output_type": "stream",
     "text": [
      "Accuracy = 96.1512027491409\n"
     ]
    },
    {
     "data": {
      "text/plain": [
       "array([[1061,   55],\n",
       "       [  37,  302]], dtype=int64)"
      ]
     },
     "execution_count": 32,
     "metadata": {},
     "output_type": "execute_result"
    }
   ],
   "source": [
    "model2 = SVC(C=10,gamma=0.1,kernel='linear')\n",
    "model2.fit(x_train , y_train)\n",
    "y_pred2 = model2.predict(x_test)\n",
    "acc2 = accuracy_score(y_test, y_pred2) * 100\n",
    "print(\"Accuracy =\", acc)\n",
    "confusion_matrix(y_test, y_pred2)"
   ]
  },
  {
   "cell_type": "code",
   "execution_count": 27,
   "id": "52e7bfbd",
   "metadata": {
    "ExecuteTime": {
     "end_time": "2022-01-13T14:45:22.956801Z",
     "start_time": "2022-01-13T14:45:22.754343Z"
    }
   },
   "outputs": [
    {
     "name": "stdout",
     "output_type": "stream",
     "text": [
      "Accuracy of final Model= 95.94501718213058\n"
     ]
    },
    {
     "data": {
      "text/plain": [
       "<AxesSubplot:>"
      ]
     },
     "execution_count": 27,
     "metadata": {},
     "output_type": "execute_result"
    },
    {
     "data": {
      "image/png": "[encoded data removed]",
      "text/plain": [
       "<Figure size 432x288 with 2 Axes>"
      ]
     },
     "metadata": {
      "needs_background": "light"
     },
     "output_type": "display_data"
    }
   ],
   "source": [
    "print(\"Accuracy of final Model=\", acc)\n",
    "from sklearn.metrics import confusion_matrix\n",
    "import seaborn as sns\n",
    "sns.heatmap(confusion_matrix(y_test, y_pred),annot=True,fmt = \"d\",linecolor=\"k\",linewidths=3)"
   ]
  },
  {
   "cell_type": "code",
   "execution_count": null,
   "id": "fe1f3cd6",
   "metadata": {},
   "outputs": [],
   "source": []
  }
 ],
 "metadata": {
  "kernelspec": {
   "display_name": "Python 3 (ipykernel)",
   "language": "python",
   "name": "python3"
  },
  "language_info": {
   "codemirror_mode": {
    "name": "ipython",
    "version": 3
   },
   "file_extension": ".py",
   "mimetype": "text/x-python",
   "name": "python",
   "nbconvert_exporter": "python",
   "pygments_lexer": "ipython3",
   "version": "3.9.7"
  }
 },
 "nbformat": 4,
 "nbformat_minor": 5
}
